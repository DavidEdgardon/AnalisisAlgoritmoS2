{
  "nbformat": 4,
  "nbformat_minor": 0,
  "metadata": {
    "colab": {
      "name": "Análisis Algoritmo S2",
      "provenance": []
    },
    "kernelspec": {
      "name": "python3",
      "display_name": "Python 3"
    }
  },
  "cells": [
    {
      "cell_type": "markdown",
      "metadata": {
        "id": "39nX8v-8fDdg"
      },
      "source": [
        "## **Divide y Venceras**\n",
        "\n"
      ]
    },
    {
      "cell_type": "code",
      "metadata": {
        "id": "jKTOBEqUe-HC"
      },
      "source": [
        "def search(lista,v,l,r):\n",
        "  if ((r-l)<=10)\n",
        "    return BusquedaIterativa;\n",
        "  else \n",
        "    c=((r+t)/2)\n",
        "    if (v<lista[c]):\n",
        "      search(lista,v,l,c);\n",
        "    else if (v>lista[c]):\n",
        "      search(lista,v,c,r);\n",
        "    else\n",
        "      return true"
      ],
      "execution_count": null,
      "outputs": []
    },
    {
      "cell_type": "markdown",
      "metadata": {
        "id": "cifKSID5mzyk"
      },
      "source": [
        "**T(n) = C + 2 * T (n/2)** \n",
        "\n",
        "**MergeSort**\n"
      ]
    },
    {
      "cell_type": "code",
      "metadata": {
        "id": "HCD7xkNqyB2W",
        "outputId": "2e0e2543-0a73-4514-e371-0c2e695e3345",
        "colab": {
          "base_uri": "https://localhost:8080/"
        }
      },
      "source": [
        "def mergeSort(lista):\n",
        "    if len(lista)>1:\n",
        "        mid = len(lista)//2\n",
        "        ls = lista[:mid]\n",
        "        rs = lista[mid:]\n",
        "        ls = mergeSort(ls)\n",
        "        rs = mergeSort(rs)\n",
        "        lista = []\n",
        "\n",
        "        while len(ls)>0 and len(rs)>0:\n",
        "            if ls[0]<rs[0]:\n",
        "                lista.append(ls[0])\n",
        "                ls.pop(0)\n",
        "            else:\n",
        "                lista.append(rs[0])\n",
        "                rs.pop(0)\n",
        "        for x in ls:\n",
        "            lista.append(x)\n",
        "        for z in rs:\n",
        "            lista.append(z)\n",
        "\n",
        "    return lista\n",
        "\n",
        "a = [12,11,23,55,13,5,6,7,18,20,15]\n",
        "print(merge_sort(a))"
      ],
      "execution_count": 6,
      "outputs": [
        {
          "output_type": "stream",
          "text": [
            "[5, 6, 7, 11, 12, 13, 15, 18, 20, 23, 55]\n"
          ],
          "name": "stdout"
        }
      ]
    },
    {
      "cell_type": "markdown",
      "metadata": {
        "id": "QXwbTpRR7vmM"
      },
      "source": [
        "**El punto maximo, si nadie lo domina..**\n",
        "\n",
        "\n",
        "Ejemplo:\n",
        "\n",
        "A[0] = 3,2\n",
        "\n",
        "A[1] = 1,7"
      ]
    },
    {
      "cell_type": "markdown",
      "metadata": {
        "id": "7Y83PlSAXWME"
      },
      "source": [
        "**Busqueda Binaria**"
      ]
    },
    {
      "cell_type": "code",
      "metadata": {
        "id": "qcDnQBk_XbRb",
        "outputId": "f5e927e9-9811-42d8-8e98-e7b4096ee52a",
        "colab": {
          "base_uri": "https://localhost:8080/"
        }
      },
      "source": [
        "def binarySearch(lista, x):\n",
        "    if len(lista) == 0:\n",
        "      return False\n",
        "    else:\n",
        "        mid = len(lista) // 2\n",
        "        if lista[mid] == x:\n",
        "            return True\n",
        "        else:\n",
        "          if x > lista[mid]:\n",
        "            return binarySearch(lista[mid+1:],x)\n",
        "          else:\n",
        "            return binarySearch(lista[:mid],x)\n",
        "\n",
        "n = [2,10,17,25,38,55,89,99,120,150]\n",
        "binarySearch(n, 120)"
      ],
      "execution_count": 14,
      "outputs": [
        {
          "output_type": "execute_result",
          "data": {
            "text/plain": [
              "True"
            ]
          },
          "metadata": {
            "tags": []
          },
          "execution_count": 14
        }
      ]
    },
    {
      "cell_type": "markdown",
      "metadata": {
        "id": "S0potyFRejrO"
      },
      "source": [
        "**Puntos Maximos**"
      ]
    },
    {
      "cell_type": "code",
      "metadata": {
        "id": "jmu142VzQX-c"
      },
      "source": [
        "def mergeSort(lista):\n",
        "    if len(lista)>1:\n",
        "        mid = len(lista)//2\n",
        "        ls = lista[:mid]\n",
        "        rs = lista[mid:]\n",
        "        ls = mergeSort(ls)\n",
        "        rs = mergeSort(rs)\n",
        "        lista = []\n",
        "\n",
        "        while len(ls)>0 and len(rs)>0:\n",
        "            if ls[0]<rs[0]:\n",
        "                lista.append(ls[0])\n",
        "                ls.pop(0)\n",
        "            else:\n",
        "                lista.append(rs[0])\n",
        "                rs.pop(0)\n",
        "        for x in ls:\n",
        "            lista.append(x)\n",
        "        for z in rs:\n",
        "            lista.append(z)\n",
        "    return lista\n",
        "\n",
        "def mezclar(l1, l2):\n",
        "  if l1 != None and l2 != None:\n",
        "    print(l1 + l2)\n",
        "  else:\n",
        "    if l1 != None:\n",
        "      mergeSort(l1)\n",
        "      print(l1)\n",
        "    else:\n",
        "      mergeSort(l2)\n",
        "      print(l2)"
      ],
      "execution_count": 10,
      "outputs": []
    },
    {
      "cell_type": "code",
      "metadata": {
        "id": "TGHO9OZk3bXj",
        "outputId": "c748ff8a-cf25-4273-87a6-fd1c2cf97d7a",
        "colab": {
          "base_uri": "https://localhost:8080/"
        }
      },
      "source": [
        "import math\n",
        "\n",
        "def maxPoints(lista, sl, sr):\n",
        "        if sl == sr:\n",
        "          return [lista[sl][1]]\n",
        "        if sl+1 == sr:\n",
        "          if lista[sl][0] > lista[sr][0] and lista[sl][1] > lista[sr][1]:\n",
        "            return [lista[sl][1]]\n",
        "          if lista[sr][0] > lista[sl][0] and lista[sr][1] > lista[sl][1]:\n",
        "            return [lista[sr][1]]\n",
        "          else:\n",
        "            return [lista[sl][1],lista[sr][1]]\n",
        "        dividir = math.ceil((sl + sr) / 2)\n",
        "        l1 = maxPoints(lista, sl, dividir)\n",
        "        l2 = maxPoints(lista, dividir+1, sr)\n",
        "        mezclar(l1,l2)\n",
        "\n",
        "nums = [(0,1),(1,3),(2,4),(3,5),(4,8),(5,10)]\n",
        "maxPoints(nums,0,len(nums)-1)"
      ],
      "execution_count": 13,
      "outputs": [
        {
          "output_type": "stream",
          "text": [
            "[3, 4]\n",
            "[5]\n",
            "[10]\n"
          ],
          "name": "stdout"
        }
      ]
    }
  ]
}